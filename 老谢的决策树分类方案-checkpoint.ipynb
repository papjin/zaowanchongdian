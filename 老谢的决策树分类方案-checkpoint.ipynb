{
 "cells": [
  {
   "cell_type": "markdown",
   "metadata": {},
   "source": [
    "# 公众号【早晚充电】"
   ]
  },
  {
   "cell_type": "markdown",
   "metadata": {},
   "source": [
    "<img src=\"https://camo.githubusercontent.com/a1ea5e7b072f0e7aad0fb4e5ad850ef53c7b2e52/687474703a2f2f77782e716c6f676f2e636e2f6d6d686561642f5133617548677a777a4d36533166387944395956614f5743375167357149396e636472336e446854576866696367344c4e4f4c434434512f30\", width=420, heigth=240>"
   ]
  },
  {
   "cell_type": "markdown",
   "metadata": {},
   "source": [
    "# 目的"
   ]
  },
  {
   "cell_type": "markdown",
   "metadata": {},
   "source": [
    "因为一个同学让我解决的问题。问题就是对一份数据用两种算法实现二分类。于是就借鉴网上实现的算法，进行修改，使其适应这份数据。并补充相关资料，使其更加容易理解算法实现及结果。文中资料如有侵权，请告知删除。"
   ]
  },
  {
   "cell_type": "markdown",
   "metadata": {},
   "source": [
    "# 【决策树分类方案--银行精准营销】\n",
    "\n",
    "实现算法为ID3和C4.5两种算法<br>\n",
    "思路参考：<a>https://blog.csdn.net/weixin_40683253/article/details/81941583?depth_1-utm_source=distribute.pc_relevant.none-task&utm_source=distribute.pc_relevant.none-task</a>\n",
    "\n",
    "不错的资料：https://zhuanlan.zhihu.com/p/68765482"
   ]
  },
  {
   "cell_type": "markdown",
   "metadata": {},
   "source": [
    "<img src=\"./01.png\", width=820, heigth=240>\n",
    "<img src=\"./02.png\", width=820, heigth=240>"
   ]
  },
  {
   "cell_type": "markdown",
   "metadata": {},
   "source": [
    "## 数据说明：\n",
    "\n",
    "### 客户信息：\n",
    "Age：年龄<br>\n",
    "Job：工作，工作类型（分类：“行政管理”、“蓝领”、“企业家”、“女佣”、“管理”、 “退休”、“个体户”、“服务”、“学生”、“技术员”、“失业”、“未知”）<br>\n",
    "Marital：婚姻，婚姻状况（分类：离婚，已婚，单身，未知）（注：“离婚”指离婚或丧偶）<br>\n",
    "Education：教育（分类：‘基本.4y’，‘Basy.6y’，‘Basy.9y’’，‘Health.学校’，‘文盲’，‘专业’课程，‘大学学位’，‘未知’）<br>\n",
    "Default：违约，信用违约吗？（分类：“不”，“是”，“不知道”）<br>\n",
    "Housing：房，有住房贷款吗？（分类：“不”，“是”，“不知道”）<br>\n",
    "Loan：贷款，有个人贷款吗？（（分类：“不”，“是”，“不知道”）<br>\n",
    "\n",
    "### 预测相关的其他数据：\n",
    "Contact：接触方式（分类：“移动电话”，“固定电话”）<br>\n",
    "Month：月，最后一个联系月份（分类：‘MAR’，…，‘NOV’，’DEC’）<br>\n",
    "Day_of_week：每周的天数，最后一周的联系日（分类）：“Mon”、“Tee”、“We”、“TUU”、“FRI”<br>\n",
    "Duration：持续时间，最后的接触持续时间，以秒为单位<br>\n",
    "Campaign：在这次战役和这个客户联系的执行人数量<br>\n",
    "Pdays：客户上次从上次活动中联系过去之后的天数（数字；999表示以前没有联系过客户）<br>\n",
    "Previous：本次活动之前和本客户端的联系人数（数字）<br>\n",
    "Proutcome：前一次营销活动的结果（分类：失败，不存在，成功）<br>\n",
    "\n",
    "### 社会和经济背景属性\n",
    "EMP.var.rate：就业变化率-季度指标（数字）<br>\n",
    "cons.price.idx：消费者价格指数-月度指标（数字）<br>\n",
    "cons.conf.idx：消费者信心指数-月度指标（数字）<br>\n",
    "euribor3m:：欧元同业拆借利率3个月利率-每日指标（数字）<br>\n",
    "nr.employed：员工人数-季度指标（数字）<br>\n",
    "\n",
    "### 输出变量：\n",
    "Y -客户是否会定期存款？“是”、“否”<br>\n",
    "\n",
    "\n",
    "\n",
    "\n",
    "\n",
    "\n",
    "\n",
    "\n",
    "\n",
    "\n",
    "\n"
   ]
  },
  {
   "cell_type": "markdown",
   "metadata": {},
   "source": [
    "这里两种算法实现选取的**数据特征为：marital；housing；loan；contact；标签：y<br>**\n",
    "为了更好的可视化我们的决策树，实现两种算法具体实现的探索<br>\n",
    "ps.去除了其他离散值太多的特征。使画的决策树更好看，更容易理解我们的决策树的生成<br>\n",
    "\n",
    "如下图,看看我们扔进算法的数据长什么样子"
   ]
  },
  {
   "cell_type": "code",
   "execution_count": 85,
   "metadata": {
    "collapsed": false
   },
   "outputs": [
    {
     "data": {
      "text/html": [
       "<div>\n",
       "<table border=\"1\" class=\"dataframe\">\n",
       "  <thead>\n",
       "    <tr style=\"text-align: right;\">\n",
       "      <th></th>\n",
       "      <th>ID</th>\n",
       "      <th>marital</th>\n",
       "      <th>housing</th>\n",
       "      <th>loan</th>\n",
       "      <th>contact</th>\n",
       "      <th>y</th>\n",
       "    </tr>\n",
       "  </thead>\n",
       "  <tbody>\n",
       "    <tr>\n",
       "      <th>0</th>\n",
       "      <td>1</td>\n",
       "      <td>married</td>\n",
       "      <td>yes</td>\n",
       "      <td>no</td>\n",
       "      <td>unknown</td>\n",
       "      <td>否</td>\n",
       "    </tr>\n",
       "    <tr>\n",
       "      <th>1</th>\n",
       "      <td>2</td>\n",
       "      <td>divorced</td>\n",
       "      <td>yes</td>\n",
       "      <td>no</td>\n",
       "      <td>cellular</td>\n",
       "      <td>否</td>\n",
       "    </tr>\n",
       "    <tr>\n",
       "      <th>2</th>\n",
       "      <td>3</td>\n",
       "      <td>married</td>\n",
       "      <td>yes</td>\n",
       "      <td>no</td>\n",
       "      <td>unknown</td>\n",
       "      <td>否</td>\n",
       "    </tr>\n",
       "    <tr>\n",
       "      <th>3</th>\n",
       "      <td>4</td>\n",
       "      <td>single</td>\n",
       "      <td>no</td>\n",
       "      <td>yes</td>\n",
       "      <td>unknown</td>\n",
       "      <td>否</td>\n",
       "    </tr>\n",
       "    <tr>\n",
       "      <th>4</th>\n",
       "      <td>5</td>\n",
       "      <td>single</td>\n",
       "      <td>no</td>\n",
       "      <td>no</td>\n",
       "      <td>cellular</td>\n",
       "      <td>否</td>\n",
       "    </tr>\n",
       "  </tbody>\n",
       "</table>\n",
       "</div>"
      ],
      "text/plain": [
       "   ID   marital housing loan   contact  y\n",
       "0   1   married     yes   no   unknown  否\n",
       "1   2  divorced     yes   no  cellular  否\n",
       "2   3   married     yes   no   unknown  否\n",
       "3   4    single      no  yes   unknown  否\n",
       "4   5    single      no   no  cellular  否"
      ]
     },
     "execution_count": 85,
     "metadata": {},
     "output_type": "execute_result"
    }
   ],
   "source": [
    "datafile = './demodemo.csv'#文件所在位置，u为防止路径中有中文名称\n",
    "pd.read_csv(datafile,encoding = 'gb18030').head(5)"
   ]
  },
  {
   "cell_type": "markdown",
   "metadata": {
    "collapsed": true
   },
   "source": [
    "# 01代码实现 - ID3算法"
   ]
  },
  {
   "cell_type": "code",
   "execution_count": 94,
   "metadata": {
    "collapsed": false,
    "scrolled": true
   },
   "outputs": [
    {
     "name": "stdout",
     "output_type": "stream",
     "text": [
      "{'contact': {0: {'housing': {0: {'loan': {0: {'marital': {0: 1, 1: 1, 2: 1}}, 1: {'marital': {0: 0, 1: 0, 2: 1}}}}, 1: {'loan': {0: {'marital': {0: 0, 1: 0, 2: 1}}, 1: {'marital': {0: 0, 1: 0, 2: 0}}}}}}, 1: {'housing': {0: {'loan': {0: {'marital': {0: 1, 1: 1, 2: 1}}, 1: {'marital': {0: 0, 1: 0, 2: 0}}}}, 1: {'loan': {0: {'marital': {0: 0, 1: 0, 2: 0}}, 1: {'marital': {0: 0, 1: 0, 2: 1}}}}}}, 2: {'marital': {0: {'housing': {0: {'loan': {0: 0, 1: 0}}, 1: {'loan': {0: 0, 1: 0}}}}, 1: {'housing': {0: {'loan': {0: 0, 1: 0}}, 1: {'loan': {0: 0, 1: 0}}}}, 2: {'housing': {0: {'loan': {0: 0, 1: 0}}, 1: {'loan': {0: 0, 1: 0}}}}}}}}\n"
     ]
    }
   ],
   "source": [
    "from math import log\n",
    "import operator\n",
    "import numpy as np\n",
    "import pandas as pd\n",
    "from pandas import DataFrame,Series\n",
    " \n",
    "# 计算数据的熵(entropy)-原始熵\n",
    "def dataentropy(data, feat):  \n",
    "    lendata=len(data)  # 数据条数\n",
    "    labelCounts={} # 数据中不同类别的条数\n",
    "    for featVec in data:\n",
    "        category=featVec[-1] # 每行数据的最后一个字（叶子节点）\n",
    "        if category not in labelCounts.keys():\n",
    "            labelCounts[category]=0 \n",
    "        labelCounts[category]+=1  # 统计有多少个类以及每个类的数量\n",
    "    entropy=0\n",
    "    for key in labelCounts:\n",
    "        prob=float(labelCounts[key])/lendata # 计算单个类的熵值\n",
    "        entropy-=prob*log(prob,2) # 累加每个类的熵值\n",
    "    return entropy\n",
    " \n",
    " \n",
    "# 处理后导入数据数据\n",
    "def Importdata(datafile): \n",
    "    dataa = pd.read_csv(datafile,encoding = 'gb18030')#datafile是excel文件，所以用read_excel,如果是csv文件则用read_csv\n",
    "    #将文本中不可直接使用的文本变量替换成数字\n",
    "\n",
    "    productDict={'married':0, 'divorced':1,'single':2, 'no':0, 'yes':1,  'cellular':0, 'telephone':1, 'unknown':2, '否':0, '是':1}\n",
    "\n",
    "    \n",
    "    dataa['marital'] = dataa['marital'].map(productDict)\n",
    "#     dataa['education'] = dataa['education'].map(productDict)   \n",
    "#     dataa['default'] = dataa['default'].map(productDict)\n",
    "    dataa['housing'] = dataa['housing'].map(productDict)\n",
    "    dataa['loan'] = dataa['loan'].map(productDict)\n",
    "    dataa['contact'] = dataa['contact'].map(productDict)\n",
    "    dataa['y'] = dataa['y'].map(productDict)\n",
    "\n",
    "    data = dataa.iloc[:,1:].values.tolist()#取量化后的几列，去掉文本列\n",
    "    b = dataa.iloc[0:0,1:-1]\n",
    "    labels = b.columns.values.tolist()#将标题中的值存入列表中\n",
    "    return data,labels\n",
    " \n",
    "# 按某个特征value分类后的数据\n",
    "def splitData(data,i,value): \n",
    "    splitData=[]\n",
    "    for featVec in data:\n",
    "        if featVec[i]==value:\n",
    "            rfv =featVec[:i]\n",
    "            rfv.extend(featVec[i+1:])\n",
    "            splitData.append(rfv)\n",
    "    return splitData\n",
    "\n",
    "# 选择最优的分类特征\n",
    "def BestSplit(data):  \n",
    "    numFea = len(data[0])-1#计算一共有多少个特征，因为最后一列一般是分类结果，所以需要-1\n",
    "    baseEnt = dataentropy(data,-1)   # 定义初始的熵,用于对比分类后信息增益的变化\n",
    "    bestInfo = 0\n",
    "    bestFeat = -1\n",
    "    for i in range(numFea):\n",
    "        featList = [rowdata[i] for rowdata in data]\n",
    "        uniqueVals = set(featList)\n",
    "        newEnt = 0\n",
    "        for value in uniqueVals:\n",
    "            subData = splitData(data,i,value)#获取按照特征value分类后的数据\n",
    "            prob =len(subData)/float(len(data))\n",
    "            newEnt +=prob*dataentropy(subData,i)  # 按特征分类后计算得到的熵\n",
    "        info = baseEnt - newEnt  # 原始熵与按特征分类后的熵的差值，即信息增益\n",
    "        if (info>bestInfo):   # 若按某特征划分后，若infoGain大于bestInf，则infoGain对应的特征分类区分样本的能力更强，更具有代表性。 \n",
    "            bestInfo=info #将infoGain赋值给bestInf，如果出现比infoGain更大的信息增益，说明还有更好地特征分类\n",
    "            bestFeat = i #将最大的信息增益对应的特征下标赋给bestFea，返回最佳分类特征\n",
    "    return bestFeat \n",
    " \n",
    "#按分类后类别数量排序，取数量较大的\n",
    "def majorityCnt(classList):    \n",
    "    c_count={}\n",
    "    for i in classList:\n",
    "        if i not in c_count.keys():\n",
    "            c_count[i]=0\n",
    "        c_count[i]+=1\n",
    "    ClassCount = sorted(c_count.items(),key=operator.itemgetter(1),reverse=True)#按照统计量降序排序\n",
    "    return ClassCount[0][0]#reverse=True表示降序，因此取[0][0]，即最大值\n",
    " \n",
    "#建树\n",
    "def createTree(data,labels):\n",
    "    classList = [rowdata[-1] for rowdata in data]  # 取每一行的最后一列，分类结果（1/0）\n",
    "    if classList.count(classList[0])==len(classList):\n",
    "        return classList[0]\n",
    "    if len(data[0])==1:\n",
    "        return majorityCnt(classList)\n",
    "    bestFeat = BestSplit(data) #根据信息增益选择最优特征\n",
    "    bestLab = labels[bestFeat]\n",
    "    myTree = {bestLab:{}} #分类结果以字典形式保存\n",
    "    del(labels[bestFeat])\n",
    "    featValues = [rowdata[bestFeat] for rowdata in data]\n",
    "    uniqueVals = set(featValues)\n",
    "    for value in uniqueVals:\n",
    "        subLabels = labels[:]\n",
    "        myTree[bestLab][value] = createTree(splitData(data,bestFeat,value),subLabels)\n",
    "    return myTree\n",
    " \n",
    "\n",
    "        \n",
    "# ==================================\n",
    "datafile = './demodemo.csv'#文件所在位置，u为防止路径中有中文名称\n",
    "data, labels=Importdata(datafile)  # 导入数据\n",
    "myTree_id3 = createTree(data, labels)\n",
    "print(myTree_id3)  # 输出决策树模型结果"
   ]
  },
  {
   "cell_type": "markdown",
   "metadata": {},
   "source": [
    "# 画决策树代码-treePlotter"
   ]
  },
  {
   "cell_type": "code",
   "execution_count": 95,
   "metadata": {
    "collapsed": false
   },
   "outputs": [
    {
     "data": {
      "image/png": "[encoded data removed]",
      "text/plain": [
       "<matplotlib.figure.Figure at 0x1ea78851518>"
      ]
     },
     "metadata": {},
     "output_type": "display_data"
    }
   ],
   "source": [
    "#绘制决策树\n",
    "import matplotlib.pyplot as plt\n",
    " \n",
    "# 定义文本框和箭头格式，boxstyle用于指定边框类型，color表示填充色\n",
    "decisionNode = dict(boxstyle=\"round4\", color='#ccccff')  #定义判断结点为圆角长方形，填充浅蓝色\n",
    "leafNode = dict(boxstyle=\"circle\", color='#66ff99')  #定义叶结点为圆形，填充绿色\n",
    "# arrow_args = dict(arrowstyle=\"<-\", color='ffcc00')  #定义箭头及颜色\n",
    "arrow_args = dict(arrowstyle='<-') \n",
    " \n",
    "#绘制带箭头的注释\n",
    "def plotNode(nodeTxt, centerPt, parentPt, nodeType):\n",
    "    createPlot.ax1.annotate(nodeTxt, xy=parentPt, xycoords='axes fraction',xytext=centerPt, textcoords='axes fraction',va=\"center\", ha=\"center\", bbox=nodeType, arrowprops=arrow_args)\n",
    " \n",
    " \n",
    "#计算叶结点数\n",
    "def getNumLeafs(myTree):\n",
    "    numLeafs = 0\n",
    "   # firstStr = myTree.keys()[0]\n",
    "    firstStr = list(myTree.keys())[0]  #python3写法\n",
    "    secondDict = myTree[firstStr]\n",
    "    for key in secondDict.keys():\n",
    "        if type(secondDict[key]).__name__ == 'dict':\n",
    "            numLeafs += getNumLeafs(secondDict[key])\n",
    "        else:\n",
    "            numLeafs += 1\n",
    "    return numLeafs\n",
    " \n",
    " \n",
    "#计算树的层数\n",
    "def getTreeDepth(myTree):\n",
    "    maxDepth = 0\n",
    "#     firstStr = myTree.keys()[0]\n",
    "    firstStr = list(myTree.keys())[0]  #python3写法\n",
    "    secondDict = myTree[firstStr]\n",
    "    for key in secondDict.keys():\n",
    "        if type(secondDict[key]).__name__ == 'dict':\n",
    "            thisDepth = 1 + getTreeDepth(secondDict[key])\n",
    "        else:\n",
    "            thisDepth = 1\n",
    "        if thisDepth > maxDepth:\n",
    "            maxDepth = thisDepth\n",
    "    return maxDepth\n",
    " \n",
    " \n",
    "#在父子结点间填充文本信息\n",
    "def plotMidText(cntrPt, parentPt, txtString):\n",
    "    xMid = (parentPt[0] - cntrPt[0]) / 2.0 + cntrPt[0]\n",
    "    yMid = (parentPt[1] - cntrPt[1]) / 2.0 + cntrPt[1]\n",
    "    createPlot.ax1.text(xMid, yMid, txtString, va=\"center\", ha=\"center\", rotation=30)\n",
    " \n",
    " \n",
    "def plotTree(myTree, parentPt, nodeTxt):\n",
    "    numLeafs = getNumLeafs(myTree)\n",
    "    depth = getTreeDepth(myTree)\n",
    "#     firstStr = myTree.keys()[0]\n",
    "    firstStr = list(myTree.keys())[0] #python3写法\n",
    "    cntrPt = (plotTree.xOff + (1.0 + float(numLeafs)) / 2.0 / plotTree.totalW, plotTree.yOff)\n",
    "    plotMidText(cntrPt, parentPt, nodeTxt)  #在父子结点间填充文本信息\n",
    "    plotNode(firstStr, cntrPt, parentPt, decisionNode)  #绘制带箭头的注释\n",
    "    secondDict = myTree[firstStr]\n",
    "    plotTree.yOff = plotTree.yOff - 1.0 / plotTree.totalD\n",
    "    for key in secondDict.keys():\n",
    "        if type(secondDict[key]).__name__ == 'dict':\n",
    "            plotTree(secondDict[key], cntrPt, str(key))\n",
    "        else:\n",
    "            plotTree.xOff = plotTree.xOff + 1.0 / plotTree.totalW\n",
    "            plotNode(secondDict[key], (plotTree.xOff, plotTree.yOff), cntrPt, leafNode)\n",
    "            plotMidText((plotTree.xOff, plotTree.yOff), cntrPt, str(key))\n",
    "    plotTree.yOff = plotTree.yOff + 1.0 / plotTree.totalD\n",
    " \n",
    " \n",
    "def createPlot(inTree):\n",
    "    fig = plt.figure(1, facecolor='white')\n",
    "    fig.clf()\n",
    "    axprops = dict(xticks=[], yticks=[])\n",
    "    createPlot.ax1 = plt.subplot(111, frameon=False, **axprops)\n",
    "    plotTree.totalW = float(getNumLeafs(inTree))\n",
    "    plotTree.totalD = float(getTreeDepth(inTree))\n",
    "    plotTree.xOff = -0.5 / plotTree.totalW;\n",
    "    plotTree.yOff = 1.0;\n",
    "    plotTree(inTree, (0.5, 1.0), '')\n",
    "    plt.show()\n",
    "    \n",
    "        \n",
    "#=================================\n",
    "createPlot(myTree_id3)"
   ]
  },
  {
   "cell_type": "markdown",
   "metadata": {},
   "source": [
    "# 代码实现 - C4.5算法\n",
    "C4.5算法和ID3算法逻辑很相似，只是ID3算法是用信息增益来选择特征，而C4.5算法是用的信息增益率，因此对代码的影响也只有BestSplit(data)<br>\n",
    "函数的定义部分，只需要加一个信息增益率的计算即可<br>\n",
    "BestSplit(data)函数定义代码更改后如下：<br>"
   ]
  },
  {
   "cell_type": "code",
   "execution_count": 96,
   "metadata": {
    "collapsed": true
   },
   "outputs": [],
   "source": [
    "# 选择最优的分类特征\n",
    "def BestSplit_c4(data):  \n",
    "    numFea = len(data[0])-1#计算一共有多少个特征，因为最后一列一般是分类结果，所以需要-1\n",
    "    baseEnt = dataentropy(data,-1)   # 定义初始的熵,用于对比分类后信息增益的变化\n",
    "    bestGainRate = 0\n",
    "    bestFeat = -1\n",
    "    for i in range(numFea):\n",
    "        featList = [rowdata[i] for rowdata in data]\n",
    "        uniqueVals = set(featList)\n",
    "        newEnt = 0\n",
    "        for value in uniqueVals:\n",
    "            subData = splitData(data,i,value)#获取按照特征value分类后的数据\n",
    "            prob =len(subData)/float(len(data))\n",
    "            newEnt +=prob*dataentropy(subData,i)  # 按特征分类后计算得到的熵\n",
    "        info = baseEnt - newEnt  # 原始熵与按特征分类后的熵的差值，即信息增益\n",
    "        splitonfo = dataentropy(subData,i) #分裂信息\n",
    "        if splitonfo == 0:#若特征值相同（eg:长相这一特征的值都是帅），即splitonfo和info均为0，则跳过该特征\n",
    "            continue\n",
    "        GainRate = info/splitonfo #计算信息增益率\n",
    "        if (GainRate>bestGainRate):   # 若按某特征划分后，若infoGain大于bestInf，则infoGain对应的特征分类区分样本的能力更强，更具有代表性。 \n",
    "            bestGainRate=GainRate #将infoGain赋值给bestInf，如果出现比infoGain更大的信息增益，说明还有更好地特征分类\n",
    "            bestFeat = i #将最大的信息增益对应的特征下标赋给bestFea，返回最佳分类特征\n",
    "    return bestFeat "
   ]
  },
  {
   "cell_type": "code",
   "execution_count": 97,
   "metadata": {
    "collapsed": false
   },
   "outputs": [
    {
     "name": "stdout",
     "output_type": "stream",
     "text": [
      "{'contact': {0: {'housing': {0: {'loan': {0: {'marital': {0: 1, 1: 1, 2: 1}}, 1: {'marital': {0: 0, 1: 0, 2: 1}}}}, 1: {'loan': {0: {'marital': {0: 0, 1: 0, 2: 1}}, 1: {'marital': {0: 0, 1: 0, 2: 0}}}}}}, 1: {'housing': {0: {'loan': {0: {'marital': {0: 1, 1: 1, 2: 1}}, 1: {'marital': {0: 0, 1: 0, 2: 0}}}}, 1: {'loan': {0: {'marital': {0: 0, 1: 0, 2: 0}}, 1: {'marital': {0: 0, 1: 0, 2: 1}}}}}}, 2: {'marital': {0: {'housing': {0: {'loan': {0: 0, 1: 0}}, 1: {'loan': {0: 0, 1: 0}}}}, 1: {'housing': {0: {'loan': {0: 0, 1: 0}}, 1: {'loan': {0: 0, 1: 0}}}}, 2: {'housing': {0: {'loan': {0: 0, 1: 0}}, 1: {'loan': {0: 0, 1: 0}}}}}}}}\n"
     ]
    }
   ],
   "source": [
    "# #建树\n",
    "def createTree_c4(data,labels):\n",
    "    classList = [rowdata[-1] for rowdata in data]  # 取每一行的最后一列，分类结果（1/0）\n",
    "    if classList.count(classList[0])==len(classList):\n",
    "        return classList[0]\n",
    "    if len(data[0])==1:\n",
    "        return majorityCnt(classList)\n",
    "    bestFeat = BestSplit_c4(data) #根据信息增益选择最优特征\n",
    "    bestLab = labels[bestFeat]\n",
    "    myTree = {bestLab:{}} #分类结果以字典形式保存\n",
    "    del(labels[bestFeat])\n",
    "    featValues = [rowdata[bestFeat] for rowdata in data]\n",
    "    uniqueVals = set(featValues)\n",
    "    for value in uniqueVals:\n",
    "        subLabels = labels[:]\n",
    "        myTree[bestLab][value] = createTree(splitData(data,bestFeat,value),subLabels)\n",
    "    return myTree\n",
    "\n",
    "\n",
    "        \n",
    "# ==================================\n",
    "datafile = './demodemo.csv'#文件所在位置，u为防止路径中有中文名称\n",
    "data, labels=Importdata(datafile)  # 导入数据\n",
    "myTree_c4 = createTree_c4(data, labels)\n",
    "print(myTree_c4)  # 输出决策树模型结果"
   ]
  },
  {
   "cell_type": "code",
   "execution_count": 98,
   "metadata": {
    "collapsed": false
   },
   "outputs": [
    {
     "data": {
      "image/png": "[encoded data removed]",
      "text/plain": [
       "<matplotlib.figure.Figure at 0x1ea7c774320>"
      ]
     },
     "metadata": {},
     "output_type": "display_data"
    }
   ],
   "source": [
    "createPlot(myTree_c4)"
   ]
  },
  {
   "cell_type": "markdown",
   "metadata": {
    "collapsed": true
   },
   "source": [
    "## 如果你想了解更多关于银行精准营销的方案，可以看看这个\n",
    "## 这是一个数据科学比赛的解决方案。里面非常全。完整的给出了一个机器学习数据处理探索过程。非常值得学习!\n",
    "<a>https://nbviewer.jupyter.org/github/suu1994/kesci/tree/master/<a/>\n"
   ]
  },
  {
   "cell_type": "code",
   "execution_count": null,
   "metadata": {
    "collapsed": true
   },
   "outputs": [],
   "source": []
  },
  {
   "cell_type": "code",
   "execution_count": null,
   "metadata": {
    "collapsed": true
   },
   "outputs": [],
   "source": []
  },
  {
   "cell_type": "code",
   "execution_count": null,
   "metadata": {
    "collapsed": true
   },
   "outputs": [],
   "source": []
  }
 ],
 "metadata": {
  "kernelspec": {
   "display_name": "Python 3",
   "language": "python",
   "name": "python3"
  },
  "language_info": {
   "codemirror_mode": {
    "name": "ipython",
    "version": 3
   },
   "file_extension": ".py",
   "mimetype": "text/x-python",
   "name": "python",
   "nbconvert_exporter": "python",
   "pygments_lexer": "ipython3",
   "version": "3.6.0"
  }
 },
 "nbformat": 4,
 "nbformat_minor": 2
}
